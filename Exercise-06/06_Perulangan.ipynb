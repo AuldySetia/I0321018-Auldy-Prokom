{
 "cells": [
  {
   "cell_type": "markdown",
   "metadata": {},
   "source": [
    "***\n",
    "<h1 align=\"center\">Exercise 06</h1>\n",
    " \n",
    "***\n",
    "## While Loop\n",
    "## Exercise 6.1\n",
    "isilah bagian rumpang berikut. xx diganti tanggal lahir dan yy diganti menjadi bulan lahir. tandanya menyesuaikan yang lebih besar."
   ]
  },
  {
   "cell_type": "code",
   "execution_count": 7,
   "metadata": {},
   "outputs": [
    {
     "name": "stdout",
     "output_type": "stream",
     "text": [
      "Make it simple but meaningful\n",
      "Make it simple but meaningful\n",
      "Make it simple but meaningful\n",
      "Make it simple but meaningful\n",
      "Make it simple but meaningful\n",
      "Make it simple but meaningful\n",
      "Make it simple but meaningful\n",
      "Make it simple but meaningful\n",
      "Make it simple but meaningful\n",
      "Make it simple but meaningful\n",
      "Make it simple but meaningful\n",
      "Make it simple but meaningful\n",
      "Make it simple but meaningful\n",
      "Make it simple but meaningful\n",
      "Make it simple but meaningful\n",
      "Make it simple but meaningful\n"
     ]
    }
   ],
   "source": [
    "#menentukan banyak pengulangan\n",
    "n = 16\n",
    "\n",
    "#melakukan pengulangan\n",
    "i = 1\n",
    "\n",
    "while i <= n :\n",
    "    print (\"Make it simple but meaningful\")\n",
    "    #diisi motto kalian\n",
    "    i = i + 1 # sesuaikan dengan atas agar fungsi perulangan dapat berhenti\n"
   ]
  },
  {
   "cell_type": "markdown",
   "metadata": {},
   "source": [
    "## Exercise 6.2\n",
    "\n",
    "Buatlah code seperti yang dicontohkan pada modul agar user dapat menginputkan sendiri jumlah n yang diinginkan"
   ]
  },
  {
   "cell_type": "code",
   "execution_count": 14,
   "metadata": {},
   "outputs": [
    {
     "name": "stdout",
     "output_type": "stream",
     "text": [
      "5\n",
      "6\n",
      "7\n",
      "8\n",
      "9\n",
      "10\n",
      "11\n",
      "12\n",
      "13\n",
      "14\n",
      "15\n",
      "16\n",
      "17\n",
      "18\n",
      "19\n",
      "20\n",
      "21\n",
      "22\n",
      "23\n",
      "24\n",
      "25\n",
      "26\n",
      "27\n",
      "28\n",
      "29\n",
      "30\n"
     ]
    }
   ],
   "source": [
    "#Kerjakan disini\n",
    "#Menentukan banyak pengulangan\n",
    "n=int(input(\"Masukkan nilai yang diinginkan= \"))\n",
    "\n",
    "#Melakukan pengulangan\n",
    "i=5\n",
    "\n",
    "while i <= n:\n",
    "    print(i)\n",
    "    i+=1"
   ]
  },
  {
   "cell_type": "markdown",
   "metadata": {},
   "source": [
    "## Excercise 6.3\n",
    "\n",
    "isilah xx, yy, dan tanda rumpang seperti pada exercise 6.1\n"
   ]
  },
  {
   "cell_type": "code",
   "execution_count": 8,
   "metadata": {},
   "outputs": [
    {
     "name": "stdout",
     "output_type": "stream",
     "text": [
      "Baris ke-16 : Hari ini kenapa, Naira?\n",
      "Baris ke-15 : Hari ini kenapa, Naira?\n",
      "Baris ke-14 : Hari ini kenapa, Naira?\n",
      "Baris ke-13 : Hari ini kenapa, Naira?\n",
      "Baris ke-12 : Hari ini kenapa, Naira?\n",
      "Baris ke-11 : Hari ini kenapa, Naira?\n",
      "Baris ke-10 : Hari ini kenapa, Naira?\n",
      "Baris ke-9 : Hari ini kenapa, Naira?\n",
      "Baris ke-8 : Hari ini kenapa, Naira?\n",
      "Baris ke-7 : Hari ini kenapa, Naira?\n",
      "Baris ke-6 : Hari ini kenapa, Naira?\n",
      "Baris ke-5 : Hari ini kenapa, Naira?\n",
      "Baris ke-4 : Hari ini kenapa, Naira?\n",
      "Baris ke-3 : Hari ini kenapa, Naira?\n",
      "Baris ke-2 : Hari ini kenapa, Naira?\n",
      "Baris ke-1 : Hari ini kenapa, Naira?\n"
     ]
    }
   ],
   "source": [
    "#melakukan pengulangan\n",
    "i = 16\n",
    "\n",
    "while i >= 1 :\n",
    "    print (\"Baris ke-%d : Hari ini kenapa, Naira?\"%i)\n",
    "    #isi titik-titik dengan judul film favorit kalian\n",
    "    i = i - 1 "
   ]
  },
  {
   "cell_type": "markdown",
   "metadata": {},
   "source": [
    "## FOR LOOP\n",
    "\n",
    "## Exercise 6.4\n",
    "\n",
    "munculkan 3 dari 7 elemen yang berada di dalam list1 dan list2\n"
   ]
  },
  {
   "cell_type": "code",
   "execution_count": 70,
   "metadata": {},
   "outputs": [
    {
     "name": "stdout",
     "output_type": "stream",
     "text": [
      "1 kebab solo\n",
      "2 gulai denpasar\n",
      "3 soto semarang\n"
     ]
    }
   ],
   "source": [
    "list1 = [\"kebab\", \"gulai\", \"soto\", \"sate kambing\", \"sate ayam\", \"martabak\", \"rendang\" ] #masukkan 7 list makanan favorit kalian\n",
    "list2 = [\"solo\", \"denpasar\", \"semarang\", \"jakarta\", \"bandung\", \"malang\", \"madiun\"] #masukkan 7 list kota favorit kalian\n",
    "\n",
    "for i in range(0,3) :\n",
    "    print(i+1,list1[i], list2[i])"
   ]
  },
  {
   "cell_type": "markdown",
   "metadata": {},
   "source": [
    "## Perulangan Bersarang\n",
    "\n",
    "## Exercise 6.5"
   ]
  },
  {
   "cell_type": "code",
   "execution_count": 7,
   "metadata": {},
   "outputs": [
    {
     "name": "stdout",
     "output_type": "stream",
     "text": [
      "256 \n",
      "240 225 \n",
      "224 210 196 \n",
      "208 195 182 169 \n",
      "192 180 168 156 144 \n",
      "176 165 154 143 132 121 \n",
      "160 150 140 130 120 110 100 \n",
      "144 135 126 117 108 99 90 81 \n",
      "128 120 112 104 96 88 80 72 64 \n",
      "112 105 98 91 84 77 70 63 56 49 \n",
      "96 90 84 78 72 66 60 54 48 42 36 \n",
      "80 75 70 65 60 55 50 45 40 35 30 25 \n",
      "64 60 56 52 48 44 40 36 32 28 24 20 16 \n",
      "48 45 42 39 36 33 30 27 24 21 18 15 12 9 \n",
      "32 30 28 26 24 22 20 18 16 14 12 10 8 6 4 \n",
      "16 15 14 13 12 11 10 9 8 7 6 5 4 3 2 1 \n"
     ]
    }
   ],
   "source": [
    "i = 16\n",
    "while i >= 1:\n",
    "    j = 16\n",
    "    while j>=i:\n",
    "        print(\"%d \" % (i*j), end = '')\n",
    "        j = j - 1\n",
    "    print()\n",
    "    i-=1"
   ]
  },
  {
   "cell_type": "markdown",
   "metadata": {},
   "source": [
    "## Pernyataan Loncat\n",
    "\n",
    "## Exercise 6.\n",
    "\n",
    "Buatlah fungsi berikut agar muncul angka hingga berhenti sesuai dengan nilai qq\n",
    "qq = angka favorit kalian\n",
    "pp>qq"
   ]
  },
  {
   "cell_type": "code",
   "execution_count": 53,
   "metadata": {},
   "outputs": [
    {
     "name": "stdout",
     "output_type": "stream",
     "text": [
      "012345678"
     ]
    }
   ],
   "source": [
    "for i in range(10):\n",
    "    print(i,end='')\n",
    "    if i == 8:\n",
    "        break"
   ]
  },
  {
   "cell_type": "markdown",
   "metadata": {},
   "source": [
    "***\n",
    "<h1 align=\"center\">WELL DONE</h1>\n",
    " \n",
    "***"
   ]
  }
 ],
 "metadata": {
  "interpreter": {
   "hash": "cd08f94adcf3cbae37fe85286256f4c2a10455ca9094fd053e9f3d3f09647223"
  },
  "kernelspec": {
   "display_name": "Python 3.9.7 64-bit",
   "language": "python",
   "name": "python3"
  },
  "language_info": {
   "codemirror_mode": {
    "name": "ipython",
    "version": 3
   },
   "file_extension": ".py",
   "mimetype": "text/x-python",
   "name": "python",
   "nbconvert_exporter": "python",
   "pygments_lexer": "ipython3",
   "version": "3.10.3"
  },
  "orig_nbformat": 4
 },
 "nbformat": 4,
 "nbformat_minor": 2
}
